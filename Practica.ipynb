{
 "cells": [
  {
   "cell_type": "markdown",
   "metadata": {},
   "source": [
    "# Condicionales"
   ]
  },
  {
   "cell_type": "code",
   "execution_count": 6,
   "metadata": {},
   "outputs": [
    {
     "name": "stdout",
     "output_type": "stream",
     "text": [
      "Evaluación de alumnos\n",
      "Introduce la nota del alumno9\n",
      "None\n"
     ]
    }
   ],
   "source": [
    "print(\"Evaluación de alumnos\")\n",
    "nota_alumno=input(\"Introduce la nota del alumno\" )\n",
    "\n",
    "def evaluacion(nota):\n",
    "    valoracion=\"aprobado\"\n",
    "    if nota<5:\n",
    "        valoracion=\"suspenso\"\n",
    "        return valoracion\n",
    "    \n",
    "print(evaluacion(int(nota_alumno)))"
   ]
  },
  {
   "cell_type": "markdown",
   "metadata": {},
   "source": [
    "# if, elif, else"
   ]
  },
  {
   "cell_type": "code",
   "execution_count": 15,
   "metadata": {},
   "outputs": [
    {
     "name": "stdout",
     "output_type": "stream",
     "text": [
      "verificacion de acceso\n",
      "Introduce tu edad: 13\n",
      "No puedes pasar\n",
      "El programa ha finalizado\n"
     ]
    }
   ],
   "source": [
    "print(\"verificacion de acceso\")\n",
    "edad_usuario = int(input(\"Introduce tu edad: \"))\n",
    "    \n",
    "if edad_usuario<18:\n",
    "    print(\"No puedes pasar\")\n",
    "elif edad_usuario>100:\n",
    "        print(\"Edad incorrecta\")\n",
    "else: \n",
    "    print(\"Puedes pasar\")\n",
    "print(\"El programa ha finalizado\")"
   ]
  },
  {
   "cell_type": "code",
   "execution_count": 20,
   "metadata": {},
   "outputs": [
    {
     "name": "stdout",
     "output_type": "stream",
     "text": [
      "verificacion de acceso\n",
      "Introduce tu nota: 7\n",
      "Notable\n"
     ]
    }
   ],
   "source": [
    "print(\"verificacion de acceso\")\n",
    "nota_usuario = int(input(\"Introduce tu nota: \"))\n",
    "    \n",
    "if nota_usuario<5:\n",
    "    print(\"Insuficiente\")\n",
    "elif nota_usuario<6:\n",
    "        print(\"Suficiente \")\n",
    "elif nota_usuario<7:\n",
    "    print(\"Bien\")\n",
    "elif nota_usuario<9:\n",
    "    print(\"Notable\")\n",
    "else:\n",
    "    print(\"Excelente\")"
   ]
  },
  {
   "cell_type": "code",
   "execution_count": null,
   "metadata": {},
   "outputs": [],
   "source": []
  },
  {
   "cell_type": "code",
   "execution_count": null,
   "metadata": {},
   "outputs": [],
   "source": []
  }
 ],
 "metadata": {
  "kernelspec": {
   "display_name": "Python 3",
   "language": "python",
   "name": "python3"
  },
  "language_info": {
   "codemirror_mode": {
    "name": "ipython",
    "version": 3
   },
   "file_extension": ".py",
   "mimetype": "text/x-python",
   "name": "python",
   "nbconvert_exporter": "python",
   "pygments_lexer": "ipython3",
   "version": "3.8.5"
  }
 },
 "nbformat": 4,
 "nbformat_minor": 4
}
