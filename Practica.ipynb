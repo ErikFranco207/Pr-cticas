{
 "cells": [
  {
   "cell_type": "markdown",
   "metadata": {},
   "source": [
    "# Condicionales"
   ]
  },
  {
   "cell_type": "code",
   "execution_count": 6,
   "metadata": {},
   "outputs": [
    {
     "name": "stdout",
     "output_type": "stream",
     "text": [
      "Evaluación de alumnos\n",
      "Introduce la nota del alumno9\n",
      "None\n"
     ]
    }
   ],
   "source": [
    "print(\"Evaluación de alumnos\")\n",
    "nota_alumno=input(\"Introduce la nota del alumno\" )\n",
    "\n",
    "def evaluacion(nota):\n",
    "    valoracion=\"aprobado\"\n",
    "    if nota<5:\n",
    "        valoracion=\"suspenso\"\n",
    "        return valoracion\n",
    "    \n",
    "print(evaluacion(int(nota_alumno)))"
   ]
  },
  {
   "cell_type": "markdown",
   "metadata": {},
   "source": [
    "# if, elif, else"
   ]
  },
  {
   "cell_type": "code",
   "execution_count": 15,
   "metadata": {},
   "outputs": [
    {
     "name": "stdout",
     "output_type": "stream",
     "text": [
      "verificacion de acceso\n",
      "Introduce tu edad: 13\n",
      "No puedes pasar\n",
      "El programa ha finalizado\n"
     ]
    }
   ],
   "source": [
    "print(\"verificacion de acceso\")\n",
    "edad_usuario = int(input(\"Introduce tu edad: \"))\n",
    "    \n",
    "if edad_usuario<18:\n",
    "    print(\"No puedes pasar\")\n",
    "elif edad_usuario>100:\n",
    "        print(\"Edad incorrecta\")\n",
    "else: \n",
    "    print(\"Puedes pasar\")\n",
    "print(\"El programa ha finalizado\")"
   ]
  },
  {
   "cell_type": "code",
   "execution_count": 20,
   "metadata": {},
   "outputs": [
    {
     "name": "stdout",
     "output_type": "stream",
     "text": [
      "verificacion de acceso\n",
      "Introduce tu nota: 7\n",
      "Notable\n"
     ]
    }
   ],
   "source": [
    "print(\"verificacion de acceso\")\n",
    "nota_usuario = int(input(\"Introduce tu nota: \"))\n",
    "    \n",
    "if nota_usuario<5:\n",
    "    print(\"Insuficiente\")\n",
    "elif nota_usuario<6:\n",
    "        print(\"Suficiente \")\n",
    "elif nota_usuario<7:\n",
    "    print(\"Bien\")\n",
    "elif nota_usuario<9:\n",
    "    print(\"Notable\")\n",
    "else:\n",
    "    print(\"Excelente\")"
   ]
  },
  {
   "cell_type": "markdown",
   "metadata": {},
   "source": [
    "# Operadores"
   ]
  },
  {
   "cell_type": "code",
   "execution_count": 25,
   "metadata": {},
   "outputs": [
    {
     "name": "stdout",
     "output_type": "stream",
     "text": [
      "Edad correcta\n"
     ]
    }
   ],
   "source": [
    "edad=40\n",
    "if 0<edad<100:\n",
    "    print(\"Edad correcta\")\n",
    "else:\n",
    "        print(\"Edad incorrecta\")"
   ]
  },
  {
   "cell_type": "code",
   "execution_count": 30,
   "metadata": {},
   "outputs": [
    {
     "name": "stdout",
     "output_type": "stream",
     "text": [
      "Introduce el salario de presidente100\n",
      "Salario presidente: 100\n",
      "Introduce el salario de director80\n",
      "Salario director: 80\n",
      "Introduce el salario jefe de área50\n",
      "Salario jefe de área: 50\n",
      "Introduce el salario de administrativo30\n",
      "Salario administrativo: 30\n"
     ]
    }
   ],
   "source": [
    "salario_presidente=int(input(\"Introduce el salario de presidente\"))\n",
    "print(\"Salario presidente: \" + str(salario_presidente))\n",
    "\n",
    "salario_director=int(input(\"Introduce el salario de director\"))\n",
    "print(\"Salario director: \" + str(salario_director))\n",
    "\n",
    "salario_jefe_area=int(input(\"Introduce el salario jefe de área\"))\n",
    "print(\"Salario jefe de área: \" + str(salario_jefe_area))\n",
    "\n",
    "salario_administrativo=int(input(\"Introduce el salario de administrativo\"))\n",
    "print(\"Salario administrativo: \" + str(salario_administrativo))"
   ]
  },
  {
   "cell_type": "markdown",
   "metadata": {},
   "source": [
    "# Beca \n",
    "Dar beca a alumnos que cumplan con los siguientes requisitos:\n",
    "\n",
    "-Distancia > 40 km\n",
    "\n",
    "-Número de hermanos >2\n",
    "\n",
    "-Salario familiar <=20,000"
   ]
  },
  {
   "cell_type": "code",
   "execution_count": 19,
   "metadata": {},
   "outputs": [
    {
     "name": "stdout",
     "output_type": "stream",
     "text": [
      "Programa de becas 2022\n",
      "Introduce la distancia a la escuela en kilometros: 10\n",
      "10\n",
      "Cuantos hermanos tienes en la escuela: 1\n",
      "1\n",
      "Introduce el salario familiar: 10000\n",
      "10000\n",
      "Tienes derecho a beca\n"
     ]
    }
   ],
   "source": [
    "print(\"Programa de becas 2022\")\n",
    "distancia_escuela=int(input(\"Introduce la distancia a la escuela en kilometros: \"))\n",
    "print(distancia_escuela)\n",
    "\n",
    "numero_hermanos=int(input(\"Cuantos hermanos tienes en la escuela: \"))\n",
    "print(numero_hermanos)\n",
    "\n",
    "salario_familiar=int(input(\"Introduce el salario familiar: \"))\n",
    "print(salario_familiar)\n",
    "\n",
    "if distancia_escuela>40 and numero_hermanos>2 or salario_familiar<=20000:\n",
    "    print(\"Tienes derecho a beca\")\n",
    "    \n",
    "else: \n",
    "    print(\"No tienes derecho a beca\")"
   ]
  },
  {
   "cell_type": "markdown",
   "metadata": {},
   "source": [
    "# Materias \n",
    "Escoger una materia optativa"
   ]
  },
  {
   "cell_type": "code",
   "execution_count": 31,
   "metadata": {},
   "outputs": [
    {
     "name": "stdout",
     "output_type": "stream",
     "text": [
      "Materias optativas 2022\n",
      "Asignaturas: informática - pruebas de software - accesibilidad\n",
      "Escribe la asignatura a escoger: ACCESIBILIDAD\n",
      "Asignatura elegida: accesibilidad\n"
     ]
    }
   ],
   "source": [
    "print(\"Materias optativas 2022\")\n",
    "print(\"Asignaturas: informática - pruebas de software - accesibilidad\")\n",
    "opcion=input(\"Escribe la asignatura a escoger: \")\n",
    "\n",
    "asignatura=opcion.lower()\n",
    "\n",
    "if asignatura in (\"informática\", \"pruebas de software\", \"accesibilidad\"):\n",
    "    print(\"Asignatura elegida: \" + asignatura)\n",
    "    \n",
    "else:\n",
    "    print(\"La asignatura escogida no es válida\")\n",
    "  "
   ]
  },
  {
   "cell_type": "code",
   "execution_count": null,
   "metadata": {},
   "outputs": [],
   "source": []
  },
  {
   "cell_type": "code",
   "execution_count": null,
   "metadata": {},
   "outputs": [],
   "source": []
  }
 ],
 "metadata": {
  "kernelspec": {
   "display_name": "Python 3",
   "language": "python",
   "name": "python3"
  },
  "language_info": {
   "codemirror_mode": {
    "name": "ipython",
    "version": 3
   },
   "file_extension": ".py",
   "mimetype": "text/x-python",
   "name": "python",
   "nbconvert_exporter": "python",
   "pygments_lexer": "ipython3",
   "version": "3.8.5"
  }
 },
 "nbformat": 4,
 "nbformat_minor": 4
}
